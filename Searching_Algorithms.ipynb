{
  "cells": [
    {
      "cell_type": "markdown",
      "metadata": {
        "id": "view-in-github",
        "colab_type": "text"
      },
      "source": [
        "<a href=\"https://colab.research.google.com/github/benku123/Ai_Algorithms/blob/main/Searching_Algorithms.ipynb\" target=\"_parent\"><img src=\"https://colab.research.google.com/assets/colab-badge.svg\" alt=\"Open In Colab\"/></a>"
      ]
    },
    {
      "cell_type": "markdown",
      "metadata": {
        "id": "UKvBCiW8XsFN"
      },
      "source": [
        "# Searching Algorithms"
      ]
    },
    {
      "cell_type": "code",
      "execution_count": null,
      "metadata": {
        "id": "9ASNWy0hjjtx"
      },
      "outputs": [],
      "source": [
        "graph = {\n",
        "  '1' : ['2', '3','4'],\n",
        "  '2' : ['5'],\n",
        "  '3' : ['6'],\n",
        "  '4' : ['6'],\n",
        "  '5' : ['7'],\n",
        "  '6' : ['7'],\n",
        "  '7' : []\n",
        "}"
      ]
    },
    {
      "cell_type": "code",
      "execution_count": null,
      "metadata": {
        "colab": {
          "base_uri": "https://localhost:8080/"
        },
        "id": "3C-3ZCpmAmja",
        "outputId": "b6622e74-bd65-4d18-d0c8-d12dec5158ac"
      },
      "outputs": [
        {
          "name": "stdout",
          "output_type": "stream",
          "text": [
            "1\n",
            "4\n",
            "6\n",
            "7\n",
            "3\n",
            "2\n",
            "5\n"
          ]
        }
      ],
      "source": [
        "\n",
        "def dfs(graph, start, visited):\n",
        "    visited.add(start)\n",
        "    graph[start] = set(graph[start]) # to use operand -\n",
        "    print(start)\n",
        "    for inner_node in graph[start] - visited:\n",
        "        dfs(graph, inner_node, visited)\n",
        "    return\n",
        "dfs(graph, '1', set())"
      ]
    },
    {
      "cell_type": "code",
      "execution_count": null,
      "metadata": {
        "colab": {
          "base_uri": "https://localhost:8080/"
        },
        "id": "fUlpoqN3Anfo",
        "outputId": "127e8fb7-7ac6-49b2-ae3a-747cd63b7b37"
      },
      "outputs": [
        {
          "name": "stdout",
          "output_type": "stream",
          "text": [
            "1 -> 2 -> 3 -> 4 -> 5 -> 6 -> 7 -> None\n"
          ]
        }
      ],
      "source": [
        "def bfs(graph, init):\n",
        "    visited = []\n",
        "    queue = []\n",
        "    visited.append(init)\n",
        "    queue.append(init)\n",
        "    while queue:\n",
        "        s = queue.pop(0)\n",
        "        print (s, end = \" -> \")\n",
        "        for node in graph[s]:\n",
        "            if node not in visited:\n",
        "                visited.append(node)\n",
        "                queue.append(node)\n",
        "    print(\"None\")\n",
        "\n",
        "bfs(graph, '1')"
      ]
    },
    {
      "cell_type": "code",
      "execution_count": null,
      "metadata": {
        "colab": {
          "base_uri": "https://localhost:8080/"
        },
        "id": "2PAam67ubDz_",
        "outputId": "304ee5ae-d42e-4ea3-df90-15b727d85f26"
      },
      "outputs": [
        {
          "name": "stdout",
          "output_type": "stream",
          "text": [
            "True\n"
          ]
        }
      ],
      "source": [
        "\n",
        "\n",
        "def IDS(initial:str, mx_depth:int, goal:str):\n",
        "    for elem in graph[initial]:\n",
        "        counter = mx_depth\n",
        "        while counter > 0:\n",
        "            if goal == elem:\n",
        "                return True\n",
        "            elif elem not in graph or graph[elem] == []:\n",
        "                break\n",
        "\n",
        "            elem = graph[elem][0]\n",
        "            counter -= 1\n",
        "    return False\n",
        "\n",
        "\n",
        "goal = \"7\"\n",
        "mx_depth = 4\n",
        "\n",
        "print(IDS(\"1\", mx_depth, goal))\n"
      ]
    },
    {
      "cell_type": "code",
      "execution_count": null,
      "metadata": {
        "id": "fqsFV13FqIN3"
      },
      "outputs": [],
      "source": [
        "\n",
        "from queue import PriorityQueue\n",
        "\n",
        "def ucs(root, goal):\n",
        "    queue = PriorityQueue()\n",
        "    queue.put((0, [root]))\n",
        "\n",
        "    while not queue.empty():\n",
        "        pair = queue.get()\n",
        "        current = pair[1][-1]\n",
        "        if current.label == goal:\n",
        "            return pair[1]\n",
        "        for edge in current.children:\n",
        "            new_path = list(pair[1])\n",
        "            new_path.append(edge.destination)\n",
        "            queue.put((pair[0] + edge.cost, new_path))\n"
      ]
    }
  ],
  "metadata": {
    "colab": {
      "provenance": [],
      "name": "Searching_Algorithms.ipynb",
      "authorship_tag": "ABX9TyMGSSsdGaMu/udWBxKt3MhT",
      "include_colab_link": true
    },
    "kernelspec": {
      "display_name": "Python 3",
      "name": "python3"
    },
    "language_info": {
      "name": "python"
    }
  },
  "nbformat": 4,
  "nbformat_minor": 0
}